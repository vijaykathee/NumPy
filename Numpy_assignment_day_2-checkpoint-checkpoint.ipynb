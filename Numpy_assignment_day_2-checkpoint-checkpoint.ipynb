{
 "cells": [
  {
   "cell_type": "markdown",
   "metadata": {
    "id": "KRH0lpS88abX"
   },
   "source": [
    "### NumPy Exercises\n",
    "##### Now that we've learned about NumPy let's test your knowledge. We'll start off with a few simple tasks and then you'll be asked some more complicated questions.\n",
    "##### IMPORTANT NOTE! Make sure you don't run the cells directly above the example output shown, otherwise you will end up writing over the example output!"
   ]
  },
  {
   "cell_type": "markdown",
   "metadata": {
    "id": "9KzpS47XBTWm"
   },
   "source": [
    "##### import numpy as np\n"
   ]
  },
  {
   "cell_type": "markdown",
   "metadata": {
    "id": "V6ntuSvDBZ2G"
   },
   "source": [
    "###### 1. Write a NumPy program to find the missing data in a given array."
   ]
  },
  {
   "cell_type": "code",
   "execution_count": 1,
   "metadata": {},
   "outputs": [],
   "source": [
    "import numpy as np"
   ]
  },
  {
   "cell_type": "code",
   "execution_count": 12,
   "metadata": {
    "id": "Z94k4mpaBClu"
   },
   "outputs": [
    {
     "name": "stdout",
     "output_type": "stream",
     "text": [
      "Original array\n",
      "[[ 3.  2. nan  1.]\n",
      " [10. 12. 10.  9.]\n",
      " [ 5. nan  1. nan]]\n",
      "Find the missing data of the said array: \n",
      "[[False False  True False]\n",
      " [False False False False]\n",
      " [False  True False  True]]\n"
     ]
    }
   ],
   "source": [
    "### code here\n",
    "p=np.array([[ 3.,2.,np.nan,1.],\n",
    " [10.,12.,10.,9.],\n",
    " [5.,np.nan,1.,np.nan]])\n",
    "print(\"Original array\")\n",
    "print(p)\n",
    "print(\"Find the missing data of the said array: \")\n",
    "print(np.isnan(p))\n"
   ]
  },
  {
   "cell_type": "markdown",
   "metadata": {
    "id": "jT038BYtB0la"
   },
   "source": [
    "##### 2. Write a NumPy program to check whether two arrays are equal (element wise) or not."
   ]
  },
  {
   "cell_type": "code",
   "execution_count": 18,
   "metadata": {
    "id": "0aJczGNjBfL1"
   },
   "outputs": [
    {
     "name": "stdout",
     "output_type": "stream",
     "text": [
      "[[0 1]\n",
      " [2 3]]\n",
      "[[0 1]\n",
      " [2 3]]\n",
      " two arrays are equal\n"
     ]
    },
    {
     "data": {
      "text/plain": [
       "array([[ True,  True],\n",
       "       [ True,  True]])"
      ]
     },
     "execution_count": 18,
     "metadata": {},
     "output_type": "execute_result"
    }
   ],
   "source": [
    "### code here \n",
    "p=np.arange(4).reshape(2,2)\n",
    "p1=np.arange(4).reshape(2,2)\n",
    "print(p)\n",
    "print(p1)\n",
    "print(\" Two arrays are equal \")\n",
    "p==p1"
   ]
  },
  {
   "cell_type": "markdown",
   "metadata": {
    "id": "XhX1H1M_CI7S"
   },
   "source": [
    "###### 3. Write a NumPy program to create a 4x4 array with random values, now create a new array from the said array swapping first and last rows."
   ]
  },
  {
   "cell_type": "code",
   "execution_count": 36,
   "metadata": {
    "id": "3HazIhbtBfOq"
   },
   "outputs": [
    {
     "name": "stdout",
     "output_type": "stream",
     "text": [
      "Original array\n",
      "[[ 0  1  2  3]\n",
      " [ 4  5  6  7]\n",
      " [ 8  9 10 11]\n",
      " [12 13 14 15]]\n"
     ]
    },
    {
     "data": {
      "text/plain": [
       "array([[ 0,  1,  2,  3],\n",
       "       [ 4,  5,  6,  7],\n",
       "       [ 8,  9, 10, 11],\n",
       "       [12, 13, 14, 15]])"
      ]
     },
     "execution_count": 36,
     "metadata": {},
     "output_type": "execute_result"
    }
   ],
   "source": [
    "## code here\n",
    "p=np.arange(16).reshape(4,4)\n",
    "print(\"Original array\")\n",
    "print(p)\n",
    "p1=p[3]\n",
    "p2=p[0]\n",
    "# print(p1,p2)\n",
    "p[p[0]==p1]\n",
    "p[p[3]==p2]\n",
    "p"
   ]
  },
  {
   "cell_type": "markdown",
   "metadata": {
    "id": "BYgy22u_kqsB"
   },
   "source": [
    "###### 4. Write a NumPy program to convert a list and tuple into arrays."
   ]
  },
  {
   "cell_type": "code",
   "execution_count": 3,
   "metadata": {
    "id": "Hgmgw7J2BfUQ"
   },
   "outputs": [
    {
     "name": "stdout",
     "output_type": "stream",
     "text": [
      "[12  2  5  8  7  4  6]\n"
     ]
    },
    {
     "data": {
      "text/plain": [
       "array([5, 8, 9, 6, 3, 2, 1, 4, 5])"
      ]
     },
     "execution_count": 3,
     "metadata": {},
     "output_type": "execute_result"
    }
   ],
   "source": [
    "#### code here\n",
    "p=[12,2,5,8,7,4,6]\n",
    "l=(5,8,9,6,3,2,1,4,5)\n",
    "print(np.array(p))\n",
    "np.array(l)\n"
   ]
  },
  {
   "cell_type": "markdown",
   "metadata": {
    "id": "jzp2hg44k5O0"
   },
   "source": [
    "###### 5. Write a NumPy program to find common values between two arrays."
   ]
  },
  {
   "cell_type": "code",
   "execution_count": 6,
   "metadata": {
    "id": "1QMJVl3LBfWm"
   },
   "outputs": [
    {
     "name": "stdout",
     "output_type": "stream",
     "text": [
      "[1 2 3 8]\n"
     ]
    }
   ],
   "source": [
    "### code here\n",
    "p=np.array([1,2,3,6,5,47,8])\n",
    "p1=np.array([1,2,3,8,9,81])\n",
    "print(np.intersect1d(p,p1))"
   ]
  },
  {
   "cell_type": "markdown",
   "metadata": {
    "id": "Llt6X9k66TMD"
   },
   "source": [
    "###### 6. Write a NumPy program to create a new shape to an array without changing its data."
   ]
  },
  {
   "cell_type": "code",
   "execution_count": 12,
   "metadata": {
    "id": "rNh8SssUBfZQ"
   },
   "outputs": [
    {
     "name": "stdout",
     "output_type": "stream",
     "text": [
      "reshape 3x2\n",
      "[[1 2]\n",
      " [3 4]\n",
      " [5 6]]\n",
      "reshape 2x3\n",
      "[[1 2 3]\n",
      " [4 5 6]]\n"
     ]
    }
   ],
   "source": [
    "### code here\n",
    "p=np.array([[1,2],[3,4],[5,6]])\n",
    "print(\"reshape 3x2\")\n",
    "print(p)\n",
    "print(\"reshape 2x3\")\n",
    "print(p.reshape(2,3))\n"
   ]
  },
  {
   "cell_type": "markdown",
   "metadata": {
    "id": "nf03MRSR7JFB"
   },
   "source": [
    "###### 7. Write a NumPy program to count the frequency of unique values in numpy array."
   ]
  },
  {
   "cell_type": "code",
   "execution_count": 7,
   "metadata": {
    "id": "NqJxDKOs6dZN"
   },
   "outputs": [
    {
     "name": "stdout",
     "output_type": "stream",
     "text": [
      "Frequency of unique values of the said array: \n",
      "[[10 20 30 40 50]\n",
      " [ 3  4  2  2  1]]\n"
     ]
    }
   ],
   "source": [
    "### code here\n",
    "p=np.array([10, 10, 20, 10, 20, 20, 20, 30, 30, 50, 40, 40])\n",
    "u,v=np.unique(p,return_counts=True)\n",
    "print(\"Frequency of unique values of the said array: \")\n",
    "print(np.asarray([u,v]))"
   ]
  },
  {
   "cell_type": "markdown",
   "metadata": {
    "id": "a5wvDisr9SGS"
   },
   "source": [
    "###### 8. Write a NumPy program to broadcast on different shapes of arrays where p(3,3) + q(3)."
   ]
  },
  {
   "cell_type": "code",
   "execution_count": 16,
   "metadata": {
    "id": "B3hjEaCw6dfJ"
   },
   "outputs": [
    {
     "name": "stdout",
     "output_type": "stream",
     "text": [
      "Original array \n",
      "array-1\n",
      "[[0 1 2]\n",
      " [3 4 5]\n",
      " [6 7 8]]\n",
      "array-2\n",
      "[0 1 2]\n",
      " new array :\n",
      "[[ 0  2  4]\n",
      " [ 3  5  7]\n",
      " [ 6  8 10]]\n"
     ]
    }
   ],
   "source": [
    "### code here\n",
    "l=np.arange(9).reshape(3,3)\n",
    "p=np.arange(3)\n",
    "print(\"Original array \")\n",
    "print(\"array-1\")\n",
    "print(l)\n",
    "print(\"array-2\")\n",
    "print(p)\n",
    "print(\" new array :\") \n",
    "#p+l\n",
    "print(np.add(l,p))"
   ]
  },
  {
   "cell_type": "markdown",
   "metadata": {
    "id": "W9mCoSxU92BL"
   },
   "source": [
    "###### 9. Write a NumPy program to extract all the elements of the second row from a given (4x4) array."
   ]
  },
  {
   "cell_type": "code",
   "execution_count": 18,
   "metadata": {
    "id": "V88Mi3yhBfgI"
   },
   "outputs": [
    {
     "name": "stdout",
     "output_type": "stream",
     "text": [
      "Original array:\n",
      "[[ 0  1  2  3]\n",
      " [ 4  5  6  7]\n",
      " [ 8  9 10 11]\n",
      " [12 13 14 15]]\n",
      "extracted data: second row\n",
      "[4 5 6 7]\n"
     ]
    }
   ],
   "source": [
    "### code here\n",
    "a= np.arange(0,16).reshape((4, 4))\n",
    "print(\"Original array:\")\n",
    "print(a)\n",
    "print(\"extracted data: second row\")\n",
    "print(a[1,:])"
   ]
  },
  {
   "cell_type": "markdown",
   "metadata": {
    "id": "t76Rc47gATll"
   },
   "source": [
    "###### 10. Write a NumPy program to extract third and fourth elements of the first and second rows from a given (4x4) array."
   ]
  },
  {
   "cell_type": "code",
   "execution_count": 21,
   "metadata": {
    "id": "tLyK4ieP91V_"
   },
   "outputs": [
    {
     "name": "stdout",
     "output_type": "stream",
     "text": [
      "Original array:\n",
      "[[ 0  1  2  3]\n",
      " [ 4  5  6  7]\n",
      " [ 8  9 10 11]\n",
      " [12 13 14 15]]\n",
      "extracted data: Third and fourth elements of the first and second rows\n",
      "[[2 3]\n",
      " [6 7]]\n"
     ]
    }
   ],
   "source": [
    "## code here\n",
    "a=np.arange(16).reshape(4,4)\n",
    "print(\"Original array:\")\n",
    "print(a)\n",
    "print(\"extracted data: Third and fourth elements of the first and second rows\")\n",
    "print(a[:2,2:])"
   ]
  },
  {
   "cell_type": "markdown",
   "metadata": {
    "id": "mES8f4RDFxtM"
   },
   "source": [
    "###### 11. Write a NumPy program to get the dates of yesterday, today and tomorrow."
   ]
  },
  {
   "cell_type": "code",
   "execution_count": 26,
   "metadata": {
    "id": "fyBw7Uo-Aoad"
   },
   "outputs": [
    {
     "name": "stdout",
     "output_type": "stream",
     "text": [
      "2022-10-28\n",
      "2022-10-29\n",
      "2022-10-30\n"
     ]
    }
   ],
   "source": [
    "### code here\n",
    "yesterday=np.datetime64('today','D')-np.timedelta64(1,'D')\n",
    "print(yesterday)\n",
    "today=np.datetime64('today','D')\n",
    "print(today)\n",
    "tomorrow=np.datetime64('today','D')+np.timedelta64(1,'D')\n",
    "print(tomorrow)"
   ]
  },
  {
   "cell_type": "markdown",
   "metadata": {
    "id": "-y3xiL7_GZ3D"
   },
   "source": [
    "###### 12. Write a NumPy program to find the first Monday in May 2017."
   ]
  },
  {
   "cell_type": "code",
   "execution_count": 27,
   "metadata": {
    "id": "roe76-pSGNX4"
   },
   "outputs": [
    {
     "name": "stdout",
     "output_type": "stream",
     "text": [
      "First Monday in May 2017: \n",
      "2017-05-01\n"
     ]
    }
   ],
   "source": [
    "## code here\n",
    "print(\"First Monday in May 2017: \")\n",
    "print(np.busday_offset('2017-05', 0, roll='forward', weekmask='Mon'))"
   ]
  }
 ],
 "metadata": {
  "colab": {
   "collapsed_sections": [],
   "name": "Numpy_assignment_day_2.ipynb",
   "provenance": []
  },
  "kernelspec": {
   "display_name": "Python 3 (ipykernel)",
   "language": "python",
   "name": "python3"
  },
  "language_info": {
   "codemirror_mode": {
    "name": "ipython",
    "version": 3
   },
   "file_extension": ".py",
   "mimetype": "text/x-python",
   "name": "python",
   "nbconvert_exporter": "python",
   "pygments_lexer": "ipython3",
   "version": "3.9.12"
  }
 },
 "nbformat": 4,
 "nbformat_minor": 1
}
